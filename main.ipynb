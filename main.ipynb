{
 "cells": [
  {
   "cell_type": "code",
   "execution_count": 54,
   "metadata": {},
   "outputs": [
    {
     "name": "stdout",
     "output_type": "stream",
     "text": [
      "Your age is: 28\n"
     ]
    }
   ],
   "source": [
    "#finding age.\n",
    "current_year=2024\n",
    "your_birth_year=int(input(\"Enter your birth year:\"))\n",
    "your_age=current_year-your_birth_year\n",
    "print(\"Your age is:\",your_age)\n",
    "\n"
   ]
  },
  {
   "cell_type": "code",
   "execution_count": null,
   "metadata": {},
   "outputs": [],
   "source": [
    "#calculate the raea of a cube.\n",
    "def cube_area(side_length):\n",
    "    \"\"\"\n",
    "    Calculate the area of a cube given its side length.\n",
    "    \n",
    "    Args:\n",
    "        side_length (float): The length of one side of the cube.\n",
    "        \n",
    "    Returns:\n",
    "        float: The area of the cube.\n",
    "    \"\"\"\n",
    "    area = 6 * side_length ** 2\n",
    "    return area\n"
   ]
  },
  {
   "cell_type": "code",
   "execution_count": null,
   "metadata": {},
   "outputs": [],
   "source": [
    "#calculate the area of a circle\n",
    "import math\n",
    "def calculate_circle_area(radius):\n",
    "    \"\"\"\n",
    "    Calculate and return the area of a circle given its radius.\n",
    "    \"\"\"\n",
    "    area = math.pi * radius**2\n",
    "    return area"
   ]
  },
  {
   "cell_type": "code",
   "execution_count": null,
   "metadata": {},
   "outputs": [],
   "source": [
    "#calculate the prcentage.\n",
    "def calculate_percentage(value, total):\n",
    "    \"\"\"Calculate the percentage of a value relative to a total.\"\"\"\n",
    "    if total == 0:\n",
    "        return 0\n",
    "    else:\n",
    "        return (value / total) * 100"
   ]
  },
  {
   "cell_type": "code",
   "execution_count": 63,
   "metadata": {},
   "outputs": [],
   "source": [
    "#calculate the area of recctangle.\n",
    "def area_rectangle(length, width):\n",
    "    \"\"\"\n",
    "    Calculate the area of a rectangle given its length and width.\n",
    "\n",
    "    Args:\n",
    "        length (float): The length of the rectangle.\n",
    "        width (float): The width of the rectangle.\n",
    "\n",
    "    Returns:\n",
    "        float: The area of the rectangle.\n",
    "    \"\"\"\n",
    "    area = length * width\n",
    "    return area\n"
   ]
  },
  {
   "cell_type": "code",
   "execution_count": null,
   "metadata": {},
   "outputs": [],
   "source": [
    "#calculate the temperature into fahrenheit and celsius\n",
    "def fahrenheit_to_celsius(fahrenheit):\n",
    "    \"\"\"\n",
    "    Converts a temperature value from Fahrenheit to Celsius.\n",
    "\n",
    "    Args:\n",
    "        fahrenheit (float): The temperature value in Fahrenheit.\n",
    "\n",
    "    Returns:\n",
    "        float: The temperature value converted to Celsius.\n",
    "    \"\"\"\n",
    "    celsius = (fahrenheit - 32) * 5/9\n",
    "    return celsius\n",
    "def celsius_to_fahrenheit(celsius):\n",
    "    \"\"\"\n",
    "    Converts a temperature value from Celsius to Fahrenheit.\n",
    "\n",
    "    Args:\n",
    "        celsius (float): The temperature value in Celsius.\n",
    "\n",
    "    Returns:\n",
    "        float: The temperature value converted to Fahrenheit.\n",
    "    \"\"\"\n",
    "    fahrenheit = (celsius * 9/5) + 32\n",
    "    return fahrenheit"
   ]
  },
  {
   "cell_type": "code",
   "execution_count": 64,
   "metadata": {},
   "outputs": [],
   "source": [
    "#calculate the number into seconds snd minutes\n",
    "def convert_to_seconds_minutes(num):\n",
    "    \"\"\"\n",
    "    Convert a given number of seconds into minutes and remaining seconds.\n",
    "    \n",
    "    Args:\n",
    "        num (int): The number of seconds to be converted.\n",
    "        \n",
    "    Returns:\n",
    "        tuple: A tuple containing the number of minutes and remaining seconds.\n",
    "    \"\"\"\n",
    "    minutes = num // 60\n",
    "    seconds = num % 60\n",
    "    \n",
    "    return (minutes, seconds)"
   ]
  }
 ],
 "metadata": {
  "kernelspec": {
   "display_name": ".venv",
   "language": "python",
   "name": "python3"
  },
  "language_info": {
   "codemirror_mode": {
    "name": "ipython",
    "version": 3
   },
   "file_extension": ".py",
   "mimetype": "text/x-python",
   "name": "python",
   "nbconvert_exporter": "python",
   "pygments_lexer": "ipython3",
   "version": "3.12.0"
  }
 },
 "nbformat": 4,
 "nbformat_minor": 2
}
